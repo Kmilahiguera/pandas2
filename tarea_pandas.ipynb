{
  "nbformat": 4,
  "nbformat_minor": 0,
  "metadata": {
    "colab": {
      "provenance": [],
      "authorship_tag": "ABX9TyOvjXPZJ4gTmZUVIfdsQ+ZJ",
      "include_colab_link": true
    },
    "kernelspec": {
      "name": "python3",
      "display_name": "Python 3"
    },
    "language_info": {
      "name": "python"
    }
  },
  "cells": [
    {
      "cell_type": "markdown",
      "metadata": {
        "id": "view-in-github",
        "colab_type": "text"
      },
      "source": [
        "<a href=\"https://colab.research.google.com/github/Kmilahiguera/pandas2/blob/main/tarea_pandas.ipynb\" target=\"_parent\"><img src=\"https://colab.research.google.com/assets/colab-badge.svg\" alt=\"Open In Colab\"/></a>"
      ]
    },
    {
      "cell_type": "code",
      "execution_count": 1,
      "metadata": {
        "colab": {
          "base_uri": "https://localhost:8080/"
        },
        "id": "SHaNy-UWwg7D",
        "outputId": "e0fa1c73-2478-446c-f4b2-23dfa04a9476"
      },
      "outputs": [
        {
          "output_type": "stream",
          "name": "stdout",
          "text": [
            "Requirement already satisfied: pandas in /usr/local/lib/python3.10/dist-packages (2.0.3)\n",
            "Requirement already satisfied: python-dateutil>=2.8.2 in /usr/local/lib/python3.10/dist-packages (from pandas) (2.8.2)\n",
            "Requirement already satisfied: pytz>=2020.1 in /usr/local/lib/python3.10/dist-packages (from pandas) (2023.4)\n",
            "Requirement already satisfied: tzdata>=2022.1 in /usr/local/lib/python3.10/dist-packages (from pandas) (2024.1)\n",
            "Requirement already satisfied: numpy>=1.21.0 in /usr/local/lib/python3.10/dist-packages (from pandas) (1.25.2)\n",
            "Requirement already satisfied: six>=1.5 in /usr/local/lib/python3.10/dist-packages (from python-dateutil>=2.8.2->pandas) (1.16.0)\n"
          ]
        }
      ],
      "source": [
        "pip install pandas"
      ]
    },
    {
      "cell_type": "code",
      "source": [
        "from google.colab import auth\n",
        "auth.authenticate_user()"
      ],
      "metadata": {
        "id": "IZXWnu7l302d"
      },
      "execution_count": 6,
      "outputs": []
    },
    {
      "source": [
        "from google.colab import drive\n",
        "drive.mount('/content/drive', force_remount=True)\n",
        "\n",
        "# Read the CSV file from the mounted Google Drive\n",
        "df = pd.read_csv('/content/drive/MyDrive/Proyecto/store.csv')"
      ],
      "cell_type": "code",
      "metadata": {
        "colab": {
          "base_uri": "https://localhost:8080/"
        },
        "id": "74BL8RQa4Sss",
        "outputId": "e58b369c-9253-42bc-b806-3614193b4dd5"
      },
      "execution_count": 9,
      "outputs": [
        {
          "output_type": "stream",
          "name": "stdout",
          "text": [
            "Mounted at /content/drive\n"
          ]
        }
      ]
    },
    {
      "cell_type": "code",
      "source": [
        "import pandas as pd"
      ],
      "metadata": {
        "id": "ruQIHYHn1lsF"
      },
      "execution_count": 2,
      "outputs": []
    },
    {
      "cell_type": "code",
      "source": [
        "print(df.head())"
      ],
      "metadata": {
        "colab": {
          "base_uri": "https://localhost:8080/"
        },
        "id": "1Pag6JSk4hBZ",
        "outputId": "6736535a-ea82-4be8-bf87-37190f383a92"
      },
      "execution_count": 10,
      "outputs": [
        {
          "output_type": "stream",
          "name": "stdout",
          "text": [
            "   StoreNumber  minuteClinicID  opticalClinicID  storeType covaxInd  \\\n",
            "0        10826            2278             2407          0        Y   \n",
            "1         2427             911                0          0        Y   \n",
            "2         8968            2242                0          0        Y   \n",
            "3        11059            2491                0          0        Y   \n",
            "4        10298            1821             2406          0        Y   \n",
            "\n",
            "   bannerBrandInd bannerBrandDesc     minuteClinicName  \\\n",
            "0               1             CVS  Inside CVS Pharmacy   \n",
            "1               1             CVS  Inside CVS Pharmacy   \n",
            "2               1             CVS  Inside CVS Pharmacy   \n",
            "3               1             CVS  Inside CVS Pharmacy   \n",
            "4               1             CVS  Inside CVS Pharmacy   \n",
            "\n",
            "   pharmacyNCPDPProviderIdentifier                                addressLine  \\\n",
            "0                          5819543                              1440 BROADWAY   \n",
            "1                          3309312                      215 PARK AVENUE SOUTH   \n",
            "2                          3361970                       222 EAST 34TH STREET   \n",
            "3                          5829001  1619 BROADWAY, CORNER of WEST 49th STREET   \n",
            "4                          5808704                           241 WEST 57TH ST   \n",
            "\n",
            "   ...    pharmacyHours_Fri    pharmacyHours_Sat    pharmacyHours_Sun  \\\n",
            "0  ...  08:00 AM - 08:00 PM  09:00 AM - 06:00 PM  09:00 AM - 06:00 PM   \n",
            "1  ...  08:00 AM - 08:00 PM  09:00 AM - 06:00 PM  09:00 AM - 06:00 PM   \n",
            "2  ...  08:00 AM - 09:00 PM  10:00 AM - 06:00 PM  10:00 AM - 06:00 PM   \n",
            "3  ...  08:00 AM - 09:00 PM  09:00 AM - 06:00 PM  09:00 AM - 06:00 PM   \n",
            "4  ...        Open 24 Hours        Open 24 Hours        Open 24 Hours   \n",
            "\n",
            "  minuteClinicNpBreakHours_Mon  minuteClinicNpBreakHours_Tue  \\\n",
            "0            2:00 PM - 3:00 PM             2:00 PM - 3:00 PM   \n",
            "1            2:00 PM - 3:00 PM             2:00 PM - 3:00 PM   \n",
            "2            2:00 PM - 3:00 PM             2:00 PM - 3:00 PM   \n",
            "3            2:00 PM - 3:00 PM             2:00 PM - 3:00 PM   \n",
            "4            2:00 PM - 3:00 PM             2:00 PM - 3:00 PM   \n",
            "\n",
            "   minuteClinicNpBreakHours_Wed minuteClinicNpBreakHours_Thu  \\\n",
            "0             2:00 PM - 3:00 PM            2:00 PM - 3:00 PM   \n",
            "1             2:00 PM - 3:00 PM            2:00 PM - 3:00 PM   \n",
            "2             2:00 PM - 3:00 PM            2:00 PM - 3:00 PM   \n",
            "3             2:00 PM - 3:00 PM            2:00 PM - 3:00 PM   \n",
            "4             2:00 PM - 3:00 PM            2:00 PM - 3:00 PM   \n",
            "\n",
            "  minuteClinicNpBreakHours_Fri minuteClinicNpBreakHours_Sat  \\\n",
            "0            2:00 PM - 3:00 PM            1:00 PM - 1:30 PM   \n",
            "1            2:00 PM - 3:00 PM            1:00 PM - 1:30 PM   \n",
            "2            2:00 PM - 3:00 PM            1:00 PM - 1:30 PM   \n",
            "3            2:00 PM - 3:00 PM            1:00 PM - 1:30 PM   \n",
            "4            2:00 PM - 3:00 PM            1:00 PM - 1:30 PM   \n",
            "\n",
            "  minuteClinicNpBreakHours_Sun  \n",
            "0            1:00 PM - 1:30 PM  \n",
            "1            1:00 PM - 1:30 PM  \n",
            "2            1:00 PM - 1:30 PM  \n",
            "3            1:00 PM - 1:30 PM  \n",
            "4            1:00 PM - 1:30 PM  \n",
            "\n",
            "[5 rows x 84 columns]\n"
          ]
        }
      ]
    }
  ]
}